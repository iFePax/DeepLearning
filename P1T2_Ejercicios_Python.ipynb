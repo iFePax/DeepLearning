{
  "nbformat": 4,
  "nbformat_minor": 0,
  "metadata": {
    "colab": {
      "name": "P1T2 Ejercicios Python.ipynb",
      "provenance": [],
      "collapsed_sections": []
    },
    "kernelspec": {
      "name": "python3",
      "display_name": "Python 3"
    },
    "language_info": {
      "name": "python"
    }
  },
  "cells": [
    {
      "cell_type": "markdown",
      "metadata": {
        "id": "cq3hWnJ10rmZ"
      },
      "source": [
        "#Ejercicio IVA\n",
        "\n",
        "\n",
        "\n",
        "Solicite el precio de 5 productos y para cada producto generarle el IVA del 19%.\n",
        "\n",
        "* Generar el valor base de todos los productos.\n",
        "* Generar el valor total del IVA\n",
        "* Generar el valor total de la Factura (valor + IVA).\n",
        "\n",
        "**MÁXIMO 10 LINEAS DE CÓDIGO FUENTE**"
      ]
    },
    {
      "cell_type": "code",
      "metadata": {
        "colab": {
          "base_uri": "https://localhost:8080/"
        },
        "id": "2zHdFu4CQWq5",
        "outputId": "f5d1b79b-2272-4aea-af88-bb53eb548596"
      },
      "source": [
        "products = [float(input(\"Product: $\")) for i in range(5)]\n",
        "iva = []\n",
        "for i in range(len(products)):\n",
        "  iva.append(products[i]*0.19)\n",
        "  print(\"\\n Product price: ${} | IVA Product:  ${}\".format(products[i], iva[i]))\n",
        "print(\"\\n - Total IVA: ${}, \\n - Total invoice (value + IVA): ${}\".format(sum(iva), sum(iva)+sum(products)))"
      ],
      "execution_count": 62,
      "outputs": [
        {
          "output_type": "stream",
          "text": [
            "Product: $100\n",
            "Product: $100\n",
            "Product: $100\n",
            "Product: $100\n",
            "Product: $100\n",
            "\n",
            " Product price: $100.0 | IVA Product:  $19.0\n",
            "\n",
            " Product price: $100.0 | IVA Product:  $19.0\n",
            "\n",
            " Product price: $100.0 | IVA Product:  $19.0\n",
            "\n",
            " Product price: $100.0 | IVA Product:  $19.0\n",
            "\n",
            " Product price: $100.0 | IVA Product:  $19.0\n",
            "\n",
            " - Total IVA: $95.0, \n",
            " - Total invoice (value + IVA): $595.0\n"
          ],
          "name": "stdout"
        }
      ]
    },
    {
      "cell_type": "markdown",
      "metadata": {
        "id": "KEqcQjRt5MTL"
      },
      "source": [
        "# Ejercicio Notas aleatorias"
      ]
    },
    {
      "cell_type": "markdown",
      "metadata": {
        "id": "wzKILpRy5bc9"
      },
      "source": [
        "Generar de forma aleatoria las notas (entre 0.0 y 5.0) de 40 estudiantes de una asignatura y mostrar lo siguiente:\n",
        "* Cuantos estudiantes perdieron (menor o igual a 2.9)\n",
        "* Cuantos estudiantes pasaron (3.0 o superior)\n",
        "* Cual fue la nota promedio\n",
        "\n",
        "**MÁXIMO 10 LINEAS DE CÓDIGO FUENTE**"
      ]
    },
    {
      "cell_type": "code",
      "metadata": {
        "colab": {
          "base_uri": "https://localhost:8080/"
        },
        "id": "fug1J3xG6ZFw",
        "outputId": "1a98c341-8d12-4b68-be7b-898a01f520d9"
      },
      "source": [
        "import random\n",
        "lost =0\n",
        "passed =0\n",
        "students = [random.randrange(50)/10 for i in range (40)]\n",
        "for i in range(len(students)):\n",
        "  if students[i]<=2.9:\n",
        "    lost+=1\n",
        "  else:\n",
        "    passed+=1\n",
        "print(\"Average: {}, Failing students:  {}, Approved students:  {}\".format(sum(students)/len(students),lost,passed))\n",
        "###print(x = (for i in range(len(students)): <=2.9) ? lost+1 : passed+1))"
      ],
      "execution_count": null,
      "outputs": [
        {
          "output_type": "stream",
          "text": [
            "False\n",
            "Average: 2.335, Failing students:  25, Approved students:  15\n"
          ],
          "name": "stdout"
        }
      ]
    }
  ]
}