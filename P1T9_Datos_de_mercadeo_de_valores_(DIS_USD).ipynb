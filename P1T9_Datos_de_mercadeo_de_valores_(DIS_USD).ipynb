{
  "nbformat": 4,
  "nbformat_minor": 0,
  "metadata": {
    "colab": {
      "name": "P1T9 Datos de mercadeo de valores (DIS/USD).ipynb",
      "provenance": []
    },
    "kernelspec": {
      "name": "python3",
      "display_name": "Python 3"
    },
    "language_info": {
      "name": "python"
    }
  },
  "cells": [
    {
      "cell_type": "markdown",
      "metadata": {
        "id": "U6_GqEwPd3_H"
      },
      "source": [
        "#Acciones de Doge-USD\n",
        "##Instalamos las librerias\n",
        "\n"
      ]
    },
    {
      "cell_type": "code",
      "metadata": {
        "id": "WQDfTFvSB8MC",
        "colab": {
          "base_uri": "https://localhost:8080/"
        },
        "outputId": "411ef1ac-c80c-489f-f38b-f4afd1763cd4"
      },
      "source": [
        "# necesitamos la libreria WIKITABLES para descargar tablas de Wikipedia (y mantener actualizada la data)\n",
        "# Necesitamos la libreria FSSPEC (Interfaces de sistema de archivos para Python)\n",
        "# Necesitamos la libreria  beautifulsoup4 : para raspado web altamente evolucionadas\n",
        "#!pip install wikitables\n",
        "!pip install fsspec\n",
        "!pip install beautifulsoup4 "
      ],
      "execution_count": 4,
      "outputs": [
        {
          "output_type": "stream",
          "name": "stdout",
          "text": [
            "Requirement already satisfied: fsspec in /usr/local/lib/python3.7/dist-packages (2021.9.0)\n",
            "Requirement already satisfied: beautifulsoup4 in /usr/local/lib/python3.7/dist-packages (4.6.3)\n"
          ]
        }
      ]
    },
    {
      "cell_type": "markdown",
      "metadata": {
        "id": "648GCSebeDst"
      },
      "source": [
        "##Importamos librerias"
      ]
    },
    {
      "cell_type": "code",
      "metadata": {
        "id": "bttPjpzheIE2"
      },
      "source": [
        "import numpy as np\n",
        "import pandas as pd\n",
        "from sklearn.cluster import KMeans\n",
        "from sklearn import preprocessing  #para normalizar los datos antes de aplicar al algoritmo\n",
        "from sklearn.metrics import pairwise_distances_argmin_min\n",
        "\n",
        "import matplotlib.pyplot as plt\n",
        "import seaborn as sb\n",
        "from mpl_toolkits.mplot3d import Axes3D   #para graficas en 3D\n",
        "\n",
        "import requests                           # libreria para manejar pedidos internet\n",
        "from bs4 import BeautifulSoup             # libreria para parsear documentos HTML\n",
        "\n",
        "#from wikitables import import_tables    # para descargar tablas de Wikipedia\n",
        "from sklearn.decomposition import PCA   # Análisis de componentes principales (PCA).\n",
        "\n",
        "#configuraciones basicas para PLT\n",
        "%matplotlib inline\n",
        "plt.rcParams['figure.figsize'] = (16, 9)\n",
        "plt.style.use('ggplot')"
      ],
      "execution_count": 5,
      "outputs": []
    },
    {
      "cell_type": "markdown",
      "metadata": {
        "id": "CxEqeoOKeLb6"
      },
      "source": [
        "##Importamos el dataset"
      ]
    },
    {
      "cell_type": "code",
      "metadata": {
        "colab": {
          "base_uri": "https://localhost:8080/",
          "height": 203
        },
        "id": "FnNSjOFXeLA3",
        "outputId": "6f722214-8820-4cd0-e0bf-83fd2392cdf8"
      },
      "source": [
        "df_acciones = pd.read_csv(\"https://raw.githubusercontent.com/iFePax/DeepLearning/main/Datasets/DIS.csv\")\n",
        "df_acciones.head(5)"
      ],
      "execution_count": 6,
      "outputs": [
        {
          "output_type": "execute_result",
          "data": {
            "text/html": [
              "<div>\n",
              "<style scoped>\n",
              "    .dataframe tbody tr th:only-of-type {\n",
              "        vertical-align: middle;\n",
              "    }\n",
              "\n",
              "    .dataframe tbody tr th {\n",
              "        vertical-align: top;\n",
              "    }\n",
              "\n",
              "    .dataframe thead th {\n",
              "        text-align: right;\n",
              "    }\n",
              "</style>\n",
              "<table border=\"1\" class=\"dataframe\">\n",
              "  <thead>\n",
              "    <tr style=\"text-align: right;\">\n",
              "      <th></th>\n",
              "      <th>Date</th>\n",
              "      <th>Open</th>\n",
              "      <th>High</th>\n",
              "      <th>Low</th>\n",
              "      <th>Close</th>\n",
              "      <th>Adj Close</th>\n",
              "      <th>Volume</th>\n",
              "    </tr>\n",
              "  </thead>\n",
              "  <tbody>\n",
              "    <tr>\n",
              "      <th>0</th>\n",
              "      <td>1962-01-02</td>\n",
              "      <td>0.092908</td>\n",
              "      <td>0.096026</td>\n",
              "      <td>0.092908</td>\n",
              "      <td>0.092908</td>\n",
              "      <td>0.058398</td>\n",
              "      <td>841958</td>\n",
              "    </tr>\n",
              "    <tr>\n",
              "      <th>1</th>\n",
              "      <td>1962-01-03</td>\n",
              "      <td>0.092908</td>\n",
              "      <td>0.094467</td>\n",
              "      <td>0.092908</td>\n",
              "      <td>0.094155</td>\n",
              "      <td>0.059182</td>\n",
              "      <td>801865</td>\n",
              "    </tr>\n",
              "    <tr>\n",
              "      <th>2</th>\n",
              "      <td>1962-01-04</td>\n",
              "      <td>0.094155</td>\n",
              "      <td>0.094467</td>\n",
              "      <td>0.093532</td>\n",
              "      <td>0.094155</td>\n",
              "      <td>0.059182</td>\n",
              "      <td>962238</td>\n",
              "    </tr>\n",
              "    <tr>\n",
              "      <th>3</th>\n",
              "      <td>1962-01-05</td>\n",
              "      <td>0.094155</td>\n",
              "      <td>0.094779</td>\n",
              "      <td>0.093844</td>\n",
              "      <td>0.094467</td>\n",
              "      <td>0.059378</td>\n",
              "      <td>962238</td>\n",
              "    </tr>\n",
              "    <tr>\n",
              "      <th>4</th>\n",
              "      <td>1962-01-08</td>\n",
              "      <td>0.094467</td>\n",
              "      <td>0.095714</td>\n",
              "      <td>0.092285</td>\n",
              "      <td>0.094155</td>\n",
              "      <td>0.059182</td>\n",
              "      <td>1282984</td>\n",
              "    </tr>\n",
              "  </tbody>\n",
              "</table>\n",
              "</div>"
            ],
            "text/plain": [
              "         Date      Open      High       Low     Close  Adj Close   Volume\n",
              "0  1962-01-02  0.092908  0.096026  0.092908  0.092908   0.058398   841958\n",
              "1  1962-01-03  0.092908  0.094467  0.092908  0.094155   0.059182   801865\n",
              "2  1962-01-04  0.094155  0.094467  0.093532  0.094155   0.059182   962238\n",
              "3  1962-01-05  0.094155  0.094779  0.093844  0.094467   0.059378   962238\n",
              "4  1962-01-08  0.094467  0.095714  0.092285  0.094155   0.059182  1282984"
            ]
          },
          "metadata": {},
          "execution_count": 6
        }
      ]
    },
    {
      "cell_type": "markdown",
      "metadata": {
        "id": "0Ff4I00fvQM7"
      },
      "source": [
        "##Conociendo y preprocesando los datos"
      ]
    },
    {
      "cell_type": "code",
      "metadata": {
        "colab": {
          "base_uri": "https://localhost:8080/"
        },
        "id": "7GEBsVj4vUAa",
        "outputId": "123cc61f-35f2-4259-965e-640098693657"
      },
      "source": [
        "#df.describe()\n",
        "df_acciones.isnull().sum()"
      ],
      "execution_count": 7,
      "outputs": [
        {
          "output_type": "execute_result",
          "data": {
            "text/plain": [
              "Date         0\n",
              "Open         0\n",
              "High         0\n",
              "Low          0\n",
              "Close        0\n",
              "Adj Close    0\n",
              "Volume       0\n",
              "dtype: int64"
            ]
          },
          "metadata": {},
          "execution_count": 7
        }
      ]
    },
    {
      "cell_type": "markdown",
      "metadata": {
        "id": "HRtR2BXyegXX"
      },
      "source": [
        "##Eliminamos las filas vacias\n",
        "Se eliminan los datos vacios (NA) y se resetea el indice"
      ]
    },
    {
      "cell_type": "code",
      "metadata": {
        "id": "lb8pHOsUeqAV"
      },
      "source": [
        "df_acciones = df_acciones.dropna()   # Se eliminan filas que tengan valor NaN.\n",
        "df_acciones = df_acciones.reset_index(drop=True)"
      ],
      "execution_count": 8,
      "outputs": []
    },
    {
      "cell_type": "markdown",
      "metadata": {
        "id": "527ayIZMeujl"
      },
      "source": [
        "##Cambiamos el tipo de dato en las columnas\n"
      ]
    },
    {
      "cell_type": "code",
      "metadata": {
        "colab": {
          "base_uri": "https://localhost:8080/",
          "height": 203
        },
        "id": "F8BEVzQGe7fq",
        "outputId": "a742cf28-5582-4ba8-9a67-749b597ede45"
      },
      "source": [
        "df_acciones['Date']=pd.to_datetime(df_acciones['Date'])       # Convertimos el campo DATE en tipo fecha\n",
        "##df_acciones = df_acciones.rename(columns={'Name':'symbol'})   #cambiamos el nombre la col de NAME a  SYMBOL\n",
        "df_acciones.head()"
      ],
      "execution_count": 9,
      "outputs": [
        {
          "output_type": "execute_result",
          "data": {
            "text/html": [
              "<div>\n",
              "<style scoped>\n",
              "    .dataframe tbody tr th:only-of-type {\n",
              "        vertical-align: middle;\n",
              "    }\n",
              "\n",
              "    .dataframe tbody tr th {\n",
              "        vertical-align: top;\n",
              "    }\n",
              "\n",
              "    .dataframe thead th {\n",
              "        text-align: right;\n",
              "    }\n",
              "</style>\n",
              "<table border=\"1\" class=\"dataframe\">\n",
              "  <thead>\n",
              "    <tr style=\"text-align: right;\">\n",
              "      <th></th>\n",
              "      <th>Date</th>\n",
              "      <th>Open</th>\n",
              "      <th>High</th>\n",
              "      <th>Low</th>\n",
              "      <th>Close</th>\n",
              "      <th>Adj Close</th>\n",
              "      <th>Volume</th>\n",
              "    </tr>\n",
              "  </thead>\n",
              "  <tbody>\n",
              "    <tr>\n",
              "      <th>0</th>\n",
              "      <td>1962-01-02</td>\n",
              "      <td>0.092908</td>\n",
              "      <td>0.096026</td>\n",
              "      <td>0.092908</td>\n",
              "      <td>0.092908</td>\n",
              "      <td>0.058398</td>\n",
              "      <td>841958</td>\n",
              "    </tr>\n",
              "    <tr>\n",
              "      <th>1</th>\n",
              "      <td>1962-01-03</td>\n",
              "      <td>0.092908</td>\n",
              "      <td>0.094467</td>\n",
              "      <td>0.092908</td>\n",
              "      <td>0.094155</td>\n",
              "      <td>0.059182</td>\n",
              "      <td>801865</td>\n",
              "    </tr>\n",
              "    <tr>\n",
              "      <th>2</th>\n",
              "      <td>1962-01-04</td>\n",
              "      <td>0.094155</td>\n",
              "      <td>0.094467</td>\n",
              "      <td>0.093532</td>\n",
              "      <td>0.094155</td>\n",
              "      <td>0.059182</td>\n",
              "      <td>962238</td>\n",
              "    </tr>\n",
              "    <tr>\n",
              "      <th>3</th>\n",
              "      <td>1962-01-05</td>\n",
              "      <td>0.094155</td>\n",
              "      <td>0.094779</td>\n",
              "      <td>0.093844</td>\n",
              "      <td>0.094467</td>\n",
              "      <td>0.059378</td>\n",
              "      <td>962238</td>\n",
              "    </tr>\n",
              "    <tr>\n",
              "      <th>4</th>\n",
              "      <td>1962-01-08</td>\n",
              "      <td>0.094467</td>\n",
              "      <td>0.095714</td>\n",
              "      <td>0.092285</td>\n",
              "      <td>0.094155</td>\n",
              "      <td>0.059182</td>\n",
              "      <td>1282984</td>\n",
              "    </tr>\n",
              "  </tbody>\n",
              "</table>\n",
              "</div>"
            ],
            "text/plain": [
              "        Date      Open      High       Low     Close  Adj Close   Volume\n",
              "0 1962-01-02  0.092908  0.096026  0.092908  0.092908   0.058398   841958\n",
              "1 1962-01-03  0.092908  0.094467  0.092908  0.094155   0.059182   801865\n",
              "2 1962-01-04  0.094155  0.094467  0.093532  0.094155   0.059182   962238\n",
              "3 1962-01-05  0.094155  0.094779  0.093844  0.094467   0.059378   962238\n",
              "4 1962-01-08  0.094467  0.095714  0.092285  0.094155   0.059182  1282984"
            ]
          },
          "metadata": {},
          "execution_count": 9
        }
      ]
    },
    {
      "cell_type": "markdown",
      "metadata": {
        "id": "l8jmndwre4rs"
      },
      "source": [
        "##Definimos las columnas que se usaran"
      ]
    },
    {
      "cell_type": "code",
      "metadata": {
        "colab": {
          "base_uri": "https://localhost:8080/",
          "height": 203
        },
        "id": "n90JrmjSfIAn",
        "outputId": "f577e3c9-6def-4c57-d41a-3c2946611d7e"
      },
      "source": [
        "open_table = df_acciones[['Date', 'Open']]\n",
        "open_table.head()"
      ],
      "execution_count": 10,
      "outputs": [
        {
          "output_type": "execute_result",
          "data": {
            "text/html": [
              "<div>\n",
              "<style scoped>\n",
              "    .dataframe tbody tr th:only-of-type {\n",
              "        vertical-align: middle;\n",
              "    }\n",
              "\n",
              "    .dataframe tbody tr th {\n",
              "        vertical-align: top;\n",
              "    }\n",
              "\n",
              "    .dataframe thead th {\n",
              "        text-align: right;\n",
              "    }\n",
              "</style>\n",
              "<table border=\"1\" class=\"dataframe\">\n",
              "  <thead>\n",
              "    <tr style=\"text-align: right;\">\n",
              "      <th></th>\n",
              "      <th>Date</th>\n",
              "      <th>Open</th>\n",
              "    </tr>\n",
              "  </thead>\n",
              "  <tbody>\n",
              "    <tr>\n",
              "      <th>0</th>\n",
              "      <td>1962-01-02</td>\n",
              "      <td>0.092908</td>\n",
              "    </tr>\n",
              "    <tr>\n",
              "      <th>1</th>\n",
              "      <td>1962-01-03</td>\n",
              "      <td>0.092908</td>\n",
              "    </tr>\n",
              "    <tr>\n",
              "      <th>2</th>\n",
              "      <td>1962-01-04</td>\n",
              "      <td>0.094155</td>\n",
              "    </tr>\n",
              "    <tr>\n",
              "      <th>3</th>\n",
              "      <td>1962-01-05</td>\n",
              "      <td>0.094155</td>\n",
              "    </tr>\n",
              "    <tr>\n",
              "      <th>4</th>\n",
              "      <td>1962-01-08</td>\n",
              "      <td>0.094467</td>\n",
              "    </tr>\n",
              "  </tbody>\n",
              "</table>\n",
              "</div>"
            ],
            "text/plain": [
              "        Date      Open\n",
              "0 1962-01-02  0.092908\n",
              "1 1962-01-03  0.092908\n",
              "2 1962-01-04  0.094155\n",
              "3 1962-01-05  0.094155\n",
              "4 1962-01-08  0.094467"
            ]
          },
          "metadata": {},
          "execution_count": 10
        }
      ]
    },
    {
      "cell_type": "code",
      "metadata": {
        "colab": {
          "base_uri": "https://localhost:8080/",
          "height": 203
        },
        "id": "Zk_S5N8Jr__8",
        "outputId": "9f55f625-4ebb-477a-e1a9-d32fe3635ecd"
      },
      "source": [
        "close_table = df_acciones[['Date', 'Close']]\n",
        "close_table.head()"
      ],
      "execution_count": 11,
      "outputs": [
        {
          "output_type": "execute_result",
          "data": {
            "text/html": [
              "<div>\n",
              "<style scoped>\n",
              "    .dataframe tbody tr th:only-of-type {\n",
              "        vertical-align: middle;\n",
              "    }\n",
              "\n",
              "    .dataframe tbody tr th {\n",
              "        vertical-align: top;\n",
              "    }\n",
              "\n",
              "    .dataframe thead th {\n",
              "        text-align: right;\n",
              "    }\n",
              "</style>\n",
              "<table border=\"1\" class=\"dataframe\">\n",
              "  <thead>\n",
              "    <tr style=\"text-align: right;\">\n",
              "      <th></th>\n",
              "      <th>Date</th>\n",
              "      <th>Close</th>\n",
              "    </tr>\n",
              "  </thead>\n",
              "  <tbody>\n",
              "    <tr>\n",
              "      <th>0</th>\n",
              "      <td>1962-01-02</td>\n",
              "      <td>0.092908</td>\n",
              "    </tr>\n",
              "    <tr>\n",
              "      <th>1</th>\n",
              "      <td>1962-01-03</td>\n",
              "      <td>0.094155</td>\n",
              "    </tr>\n",
              "    <tr>\n",
              "      <th>2</th>\n",
              "      <td>1962-01-04</td>\n",
              "      <td>0.094155</td>\n",
              "    </tr>\n",
              "    <tr>\n",
              "      <th>3</th>\n",
              "      <td>1962-01-05</td>\n",
              "      <td>0.094467</td>\n",
              "    </tr>\n",
              "    <tr>\n",
              "      <th>4</th>\n",
              "      <td>1962-01-08</td>\n",
              "      <td>0.094155</td>\n",
              "    </tr>\n",
              "  </tbody>\n",
              "</table>\n",
              "</div>"
            ],
            "text/plain": [
              "        Date     Close\n",
              "0 1962-01-02  0.092908\n",
              "1 1962-01-03  0.094155\n",
              "2 1962-01-04  0.094155\n",
              "3 1962-01-05  0.094467\n",
              "4 1962-01-08  0.094155"
            ]
          },
          "metadata": {},
          "execution_count": 11
        }
      ]
    },
    {
      "cell_type": "markdown",
      "metadata": {
        "id": "SeQlc4bcfPqR"
      },
      "source": [
        "##Invertimos el dataframe para tener las acciones por fecha "
      ]
    },
    {
      "cell_type": "code",
      "metadata": {
        "colab": {
          "base_uri": "https://localhost:8080/",
          "height": 234
        },
        "id": "1R16PcP2wqRF",
        "outputId": "17640a95-e927-4eb4-8985-a05f77551d67"
      },
      "source": [
        "##NO CORRER\n",
        "#colocamos como indice la fecha, como columnas los iniciales de las empresas y como valor el CLOSE de cada celda\n",
        "open_table = open_table.pivot(index='Date', columns='Open', values='Open')\n",
        "open_table = open_table.dropna(axis=1)    #borramos filas vacias\n",
        "open_table.head(5)"
      ],
      "execution_count": 128,
      "outputs": [
        {
          "output_type": "execute_result",
          "data": {
            "text/html": [
              "<div>\n",
              "<style scoped>\n",
              "    .dataframe tbody tr th:only-of-type {\n",
              "        vertical-align: middle;\n",
              "    }\n",
              "\n",
              "    .dataframe tbody tr th {\n",
              "        vertical-align: top;\n",
              "    }\n",
              "\n",
              "    .dataframe thead th {\n",
              "        text-align: right;\n",
              "    }\n",
              "</style>\n",
              "<table border=\"1\" class=\"dataframe\">\n",
              "  <thead>\n",
              "    <tr style=\"text-align: right;\">\n",
              "      <th>Open</th>\n",
              "    </tr>\n",
              "    <tr>\n",
              "      <th>Date</th>\n",
              "    </tr>\n",
              "  </thead>\n",
              "  <tbody>\n",
              "    <tr>\n",
              "      <th>1962-01-02</th>\n",
              "    </tr>\n",
              "    <tr>\n",
              "      <th>1962-01-03</th>\n",
              "    </tr>\n",
              "    <tr>\n",
              "      <th>1962-01-04</th>\n",
              "    </tr>\n",
              "    <tr>\n",
              "      <th>1962-01-05</th>\n",
              "    </tr>\n",
              "    <tr>\n",
              "      <th>1962-01-08</th>\n",
              "    </tr>\n",
              "  </tbody>\n",
              "</table>\n",
              "</div>"
            ],
            "text/plain": [
              "Empty DataFrame\n",
              "Columns: []\n",
              "Index: [1962-01-02 00:00:00, 1962-01-03 00:00:00, 1962-01-04 00:00:00, 1962-01-05 00:00:00, 1962-01-08 00:00:00]"
            ]
          },
          "metadata": {},
          "execution_count": 128
        }
      ]
    },
    {
      "cell_type": "markdown",
      "metadata": {
        "id": "dMW_e1y1iNvj"
      },
      "source": [
        "##Normalización de los datos usando como base la fecha\n",
        "\n",
        "---\n",
        "Puede decidir volver a muestrear los datos:\n",
        "\n",
        "*  W - para datos semanales\n",
        "*  M - para datos mensuales\n",
        "*  Q - para el trimestre\n",
        "*  A - por año"
      ]
    },
    {
      "cell_type": "code",
      "metadata": {
        "colab": {
          "base_uri": "https://localhost:8080/"
        },
        "id": "3qck3uh-lwUd",
        "outputId": "ac68d2cd-4ded-425e-d3d4-f00b94db08da"
      },
      "source": [
        "open_table['Date'] = pd.to_datetime(open_table['Date'])\n",
        "close_table['Date'] = pd.to_datetime(close_table['Date'])"
      ],
      "execution_count": 12,
      "outputs": [
        {
          "output_type": "stream",
          "name": "stderr",
          "text": [
            "/usr/local/lib/python3.7/dist-packages/ipykernel_launcher.py:1: SettingWithCopyWarning: \n",
            "A value is trying to be set on a copy of a slice from a DataFrame.\n",
            "Try using .loc[row_indexer,col_indexer] = value instead\n",
            "\n",
            "See the caveats in the documentation: https://pandas.pydata.org/pandas-docs/stable/user_guide/indexing.html#returning-a-view-versus-a-copy\n",
            "  \"\"\"Entry point for launching an IPython kernel.\n",
            "/usr/local/lib/python3.7/dist-packages/ipykernel_launcher.py:2: SettingWithCopyWarning: \n",
            "A value is trying to be set on a copy of a slice from a DataFrame.\n",
            "Try using .loc[row_indexer,col_indexer] = value instead\n",
            "\n",
            "See the caveats in the documentation: https://pandas.pydata.org/pandas-docs/stable/user_guide/indexing.html#returning-a-view-versus-a-copy\n",
            "  \n"
          ]
        }
      ]
    },
    {
      "cell_type": "code",
      "metadata": {
        "id": "17v-xephwFpG"
      },
      "source": [
        "open_table = open_table.resample('W', on='Date').sum()\n",
        "close_table = close_table.resample('W', on='Date').sum()"
      ],
      "execution_count": 13,
      "outputs": []
    },
    {
      "cell_type": "markdown",
      "metadata": {
        "id": "AZuhY8exop0W"
      },
      "source": [
        "##Graficamos los datos"
      ]
    },
    {
      "cell_type": "code",
      "metadata": {
        "id": "tICT6_OGn4fW"
      },
      "source": [
        "#funcion para sacar el  nombre de las empresas segun  su sigla\n",
        "def plot_stock(symbol, df_acciones=df_acciones):\n",
        "    df_acciones[symbol].plot(alpha=2);"
      ],
      "execution_count": 16,
      "outputs": []
    },
    {
      "cell_type": "code",
      "metadata": {
        "colab": {
          "base_uri": "https://localhost:8080/",
          "height": 571
        },
        "id": "p2-VWAW1nmQy",
        "outputId": "c7ad245a-63e5-40a5-d54f-daa492191917"
      },
      "source": [
        "plot_stock('Open')\n",
        "plot_stock('Close')\n",
        "plt.title('Valor de Open VS Close (DIS/USD)')\n",
        "plt.legend();"
      ],
      "execution_count": 139,
      "outputs": [
        {
          "output_type": "display_data",
          "data": {
            "image/png": "[encoded data removed]",
            "text/plain": [
              "<Figure size 1152x648 with 1 Axes>"
            ]
          },
          "metadata": {}
        }
      ]
    },
    {
      "cell_type": "markdown",
      "metadata": {
        "id": "EkT2iyZm30PK"
      },
      "source": [
        "##Grafica elbow o de codo"
      ]
    },
    {
      "cell_type": "code",
      "metadata": {
        "colab": {
          "base_uri": "https://localhost:8080/",
          "height": 582
        },
        "id": "J81iaAJ434Ut",
        "outputId": "5d891448-cf71-47cb-82d4-54bf26466a48"
      },
      "source": [
        "#%% Curva elbow para determinar valor óptimo de k.\n",
        "nc = range(1, 30) # El número de iteraciones que queremos hacer.\n",
        "kmeans = [KMeans(n_clusters=i) for i in nc]\n",
        "score = [kmeans[i].fit(open_table).score(open_table) for i in range(len(kmeans))]\n",
        "\n",
        "plt.xlabel('Número de clústeres (k)')\n",
        "plt.ylabel('Suma de los errores cuadráticos')\n",
        "plt.plot(nc,score)"
      ],
      "execution_count": 20,
      "outputs": [
        {
          "output_type": "execute_result",
          "data": {
            "text/plain": [
              "[<matplotlib.lines.Line2D at 0x7fc9d00a60d0>]"
            ]
          },
          "metadata": {},
          "execution_count": 20
        },
        {
          "output_type": "display_data",
          "data": {
            "image/png": "[encoded data removed]",
            "text/plain": [
              "<Figure size 1152x648 with 1 Axes>"
            ]
          },
          "metadata": {}
        }
      ]
    },
    {
      "cell_type": "code",
      "metadata": {
        "colab": {
          "base_uri": "https://localhost:8080/",
          "height": 582
        },
        "id": "XK3QCsQK6C20",
        "outputId": "536fe2d9-95e0-4643-f7b4-14528c61ccf6"
      },
      "source": [
        "#%% Curva elbow para determinar valor óptimo de k.\n",
        "nc = range(1, 30) # El número de iteraciones que queremos hacer.\n",
        "kmeans = [KMeans(n_clusters=i) for i in nc]\n",
        "score = [kmeans[i].fit(close_table).score(close_table) for i in range(len(kmeans))]\n",
        "\n",
        "plt.xlabel('Número de clústeres (k)')\n",
        "plt.ylabel('Suma de los errores cuadráticos')\n",
        "plt.plot(nc,score)"
      ],
      "execution_count": 21,
      "outputs": [
        {
          "output_type": "execute_result",
          "data": {
            "text/plain": [
              "[<matplotlib.lines.Line2D at 0x7fc9cfb72810>]"
            ]
          },
          "metadata": {},
          "execution_count": 21
        },
        {
          "output_type": "display_data",
          "data": {
            "image/png": "[encoded data removed]",
            "text/plain": [
              "<Figure size 1152x648 with 1 Axes>"
            ]
          },
          "metadata": {}
        }
      ]
    },
    {
      "cell_type": "markdown",
      "metadata": {
        "id": "5A-i8fGY6LTu"
      },
      "source": [
        "##Aplicar el algoritmo de K-mean"
      ]
    },
    {
      "cell_type": "code",
      "metadata": {
        "colab": {
          "base_uri": "https://localhost:8080/"
        },
        "id": "G1GURZVX6Vew",
        "outputId": "a2350ad4-ad8c-4fe7-a4b9-9a86b23ffca4"
      },
      "source": [
        "#%% Aplicación de k-means con k = 5.\n",
        "kmeans = KMeans(n_clusters=5).fit(open_table)\n",
        "centroids = kmeans.cluster_centers_\n",
        "print(centroids)   #coordenadas de los centroides"
      ],
      "execution_count": 23,
      "outputs": [
        {
          "output_type": "stream",
          "name": "stdout",
          "text": [
            "[[ 15.62665134]\n",
            " [549.78457317]\n",
            " [141.42278282]\n",
            " [388.68182434]\n",
            " [812.37492171]]\n"
          ]
        }
      ]
    },
    {
      "cell_type": "code",
      "metadata": {
        "colab": {
          "base_uri": "https://localhost:8080/"
        },
        "id": "Zvim3oXK6QOv",
        "outputId": "64838a0d-bae4-47b0-b249-ed20bf05e76f"
      },
      "source": [
        "#%% Aplicación de k-means con k = 5.\n",
        "kmeans = KMeans(n_clusters=5).fit(close_table)\n",
        "centroids = kmeans.cluster_centers_\n",
        "print(centroids)   #coordenadas de los centroides"
      ],
      "execution_count": 24,
      "outputs": [
        {
          "output_type": "stream",
          "name": "stdout",
          "text": [
            "[[141.62168048]\n",
            " [550.29127597]\n",
            " [ 15.70770337]\n",
            " [813.62452958]\n",
            " [388.65216259]]\n"
          ]
        }
      ]
    }
  ]
}